{
 "cells": [
  {
   "cell_type": "markdown",
   "id": "78c02a09",
   "metadata": {},
   "source": [
    "<h1><center> Introduction.</h1>"
   ]
  },
  {
   "cell_type": "markdown",
   "id": "a9854f3f",
   "metadata": {},
   "source": [
    "<h3>FASTQ files</h3>\n",
    "\n",
    "Fastq consists of a defline that contains a read identifier and possibly other information, nucleotide base calls, a second defline, and per-base quality scores, all in text form. There are many variations.\n",
    "The following terms and formats are defined in general:\n",
    "1. Identifier and other information: text string terminated by white space.\n",
    "2. Bases: fastq sequence should contain standard base calls (ACTGactg) or unknown bases (Nn) and can vary in length.\n",
    "3. <h4>Qualities options</h4>\n",
    "\n",
    "* Decimal-encoding\n",
    "* Phred-33 ASCII\t\n",
    "* Phred-64 ASCII\t\n",
    "\n",
    "You should understand how your libraries were prepared and sequenced, and if your reads are \"raw\" or have undergone any processing before you got them.\n",
    "\n",
    "If possible, you should get the raw FASTQ files before any processing, especially quality filtering or length trimming, because trimming may be harmful and the usearch expected error method is much better than most other quality filters. Third-party quality filters that give especially bad results include the PANDAseq assembler and the QIIME filter described by Bokulich et. al 2013 (see results in Edgar & Flyvbjerg 2014).\n",
    "\n",
    "If you downloaded Illumina reads from the NCBI Short Read Archive, see the fastq_sra_splitpairs command. In my experience, reads in the SRA and other public repositories have often undergone undocumented and/or undesirable processing, so I suggest asking the authors for details and whether they can share the raw FASTQs.\n",
    "\n",
    "<h4> Accepted Format</h4>\n",
    "\n",
    "* identifier and expected information\n",
    "* sequence\n",
    "* identifier and other information OR empty string\n",
    "* quality"
   ]
  },
  {
   "cell_type": "code",
   "execution_count": 6,
   "id": "09dd3625",
   "metadata": {},
   "outputs": [],
   "source": [
    "# 👇️ for Jupyter Notebook\n",
    "#!pip install biopython\n"
   ]
  },
  {
   "cell_type": "markdown",
   "id": "5e17e246",
   "metadata": {},
   "source": [
    "<h2> Requirements</h2>"
   ]
  },
  {
   "cell_type": "code",
   "execution_count": null,
   "id": "5bd90bcc",
   "metadata": {},
   "outputs": [],
   "source": [
    "# Tools\n",
    "mamba create -n dadaist -c conda-forge -c bioconda dadaist2\n",
    "mamba create -n dadaist -c conda-forge -c bioconda dadaist2\n",
    "mamba init\n",
    "mamba activate dadaist\n",
    "\n",
    "# Taxonomy\n",
    "dadaist2-getdb -d decipher-silva-138 -o ~/refs/\n"
   ]
  },
  {
   "cell_type": "markdown",
   "id": "e1879e92",
   "metadata": {},
   "source": [
    "<h2> Data</h2>\n",
    "\n",
    "dataset from Pat Schloss [source](https://mothur.org/)"
   ]
  },
  {
   "cell_type": "code",
   "execution_count": null,
   "id": "e0381485",
   "metadata": {},
   "outputs": [],
   "source": [
    "# Load data \n",
    "wget \"https://github.com/quadram-institute-bioscience/dadaist2/releases/download/v1.2.4/data.zip\"\n",
    "\n",
    "# Unzip data\n",
    "unzip SRR203485122.zip && rm data.zip\n",
    "\n",
    "# Data Inspection\n",
    "seqfu count --basename data/16S/*.gz\n",
    "\n",
    "# Create metadata\n",
    "dadaist2-metadata -i data/16S > metadata.tsv\n",
    "\n",
    "# Map metadata\n",
    "dadaist2-getdb -d decipher-silva-138 -o ./refs\n",
    "\n",
    "# Taxonomy \n",
    "dadaist2 -i data/16S/ -o example-output -d refs/SILVA_SSU_r138_2019.RData -t 8 -m metadata.tsv --verbose\n",
    "\n",
    "# Generate ASV\n",
    "dadaist2 -i data/16S/ -o example-output -d refs/SILVA_SSU_r138_2019.RData -t 8 -m metadata.tsv --verbose"
   ]
  }
 ],
 "metadata": {
  "kernelspec": {
   "display_name": "Python 3 (ipykernel)",
   "language": "python",
   "name": "python3"
  },
  "language_info": {
   "codemirror_mode": {
    "name": "ipython",
    "version": 3
   },
   "file_extension": ".py",
   "mimetype": "text/x-python",
   "name": "python",
   "nbconvert_exporter": "python",
   "pygments_lexer": "ipython3",
   "version": "3.8.15"
  }
 },
 "nbformat": 4,
 "nbformat_minor": 5
}
